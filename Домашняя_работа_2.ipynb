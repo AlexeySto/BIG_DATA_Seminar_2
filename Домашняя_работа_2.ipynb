{
  "nbformat": 4,
  "nbformat_minor": 0,
  "metadata": {
    "colab": {
      "provenance": [],
      "authorship_tag": "ABX9TyMupJWxd4IVz+C9xKFqEpml",
      "include_colab_link": true
    },
    "kernelspec": {
      "name": "python3",
      "display_name": "Python 3"
    },
    "language_info": {
      "name": "python"
    }
  },
  "cells": [
    {
      "cell_type": "markdown",
      "metadata": {
        "id": "view-in-github",
        "colab_type": "text"
      },
      "source": [
        "<a href=\"https://colab.research.google.com/github/AlexeySto/BIG_DATA_Seminar_2/blob/main/%D0%94%D0%BE%D0%BC%D0%B0%D1%88%D0%BD%D1%8F%D1%8F_%D1%80%D0%B0%D0%B1%D0%BE%D1%82%D0%B0_2.ipynb\" target=\"_parent\"><img src=\"https://colab.research.google.com/assets/colab-badge.svg\" alt=\"Open In Colab\"/></a>"
      ]
    },
    {
      "cell_type": "code",
      "source": [
        "import pandas as pd\n",
        "\n",
        "\n",
        "df = pd.read_csv('/content/AB_NYC_2019.csv')\n",
        "print(\"Среднее арифметическое по цене:\")\n",
        "df[df['price'] != 0]['price'].mean()"
      ],
      "metadata": {
        "colab": {
          "base_uri": "https://localhost:8080/"
        },
        "id": "yimCETaTg92x",
        "outputId": "7f058ac6-2a00-4eef-ced7-bd2f9d6c0986"
      },
      "execution_count": null,
      "outputs": [
        {
          "output_type": "stream",
          "name": "stdout",
          "text": [
            "Среднее арифметическое по цене:\n"
          ]
        },
        {
          "output_type": "execute_result",
          "data": {
            "text/plain": [
              "152.75505277800508"
            ]
          },
          "metadata": {},
          "execution_count": 48
        }
      ]
    },
    {
      "cell_type": "code",
      "source": [
        "print(\"Количество строк в таблице:\")\n",
        "df.shape[0]"
      ],
      "metadata": {
        "colab": {
          "base_uri": "https://localhost:8080/"
        },
        "id": "BvRqZqZuAPoa",
        "outputId": "4c403864-8a30-4f88-d3cd-36b4863216dd"
      },
      "execution_count": null,
      "outputs": [
        {
          "output_type": "stream",
          "name": "stdout",
          "text": [
            "Количество строк в таблице:\n"
          ]
        },
        {
          "output_type": "execute_result",
          "data": {
            "text/plain": [
              "48895"
            ]
          },
          "metadata": {},
          "execution_count": 47
        }
      ]
    },
    {
      "cell_type": "code",
      "source": [
        "from functools import reduce\n",
        "\n",
        "\n",
        "def mapper(price):\n",
        "    score = 0.0\n",
        "    if float(price):\n",
        "      score = float(price)\n",
        "    return score\n",
        "\n",
        "def reducer(score_data1, score_data2):\n",
        "    if  isinstance (score_data1, float):\n",
        "      if score_data1 != 0.0 and score_data2 != 0.0:\n",
        "        n = 2\n",
        "        mean = (score_data1 + score_data2) / n\n",
        "        M2 = (score_data1 - mean) + (score_data2 - mean)\n",
        "        return n, mean, M2\n",
        "      if score_data1 != 0.0 and score_data2 == 0.0:\n",
        "        return 1, score_data1, 0\n",
        "      if score_data1 == 0.0 and score_data2 != 0.0:\n",
        "        return 1, score_data2, 0\n",
        "      if score_data1 == 0.0 and score_data2 == 0.0:\n",
        "        return 0, 0.0, 0\n",
        "    elif isinstance (score_data1, tuple):\n",
        "      if score_data2 == 0.0:\n",
        "        n, mean, M2 = list(score_data1)\n",
        "        return n, mean, M2\n",
        "      else:\n",
        "        n, mean, M2 = list(score_data1)\n",
        "        n += 1\n",
        "        delta = score_data2 - mean\n",
        "        mean += delta / n\n",
        "        M2 += delta * (score_data2 - mean)\n",
        "        return n, mean, M2\n"
      ],
      "metadata": {
        "id": "aw5QxJpWB9Ga"
      },
      "execution_count": null,
      "outputs": []
    },
    {
      "cell_type": "code",
      "source": [
        "%%time\n",
        "n, mean, M2 = reduce(reducer, map(mapper, df['price']))\n",
        "print(\"Среднее арифметическое: \", mean, \"Дисперсия: \", (M2 / n) ** (1/2))"
      ],
      "metadata": {
        "colab": {
          "base_uri": "https://localhost:8080/"
        },
        "id": "k0fE_5Mqh7-p",
        "outputId": "08115c54-6964-4a7f-ec64-6619b62336fb"
      },
      "execution_count": null,
      "outputs": [
        {
          "output_type": "stream",
          "name": "stdout",
          "text": [
            "Среднее арифметическое:  152.75505277800468 Дисперсия:  240.1676805695461\n",
            "CPU times: user 43.5 ms, sys: 793 µs, total: 44.3 ms\n",
            "Wall time: 44.8 ms\n"
          ]
        }
      ]
    }
  ]
}